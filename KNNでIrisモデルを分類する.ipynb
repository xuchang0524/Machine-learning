{
 "cells": [
  {
   "cell_type": "code",
   "execution_count": 2,
   "metadata": {
    "collapsed": true
   },
   "outputs": [],
   "source": [
    "import numpy as np\n",
    "from sklearn.datasets import load_iris\n",
    "iris_dataset = load_iris()"
   ]
  },
  {
   "cell_type": "code",
   "execution_count": 3,
   "metadata": {
    "collapsed": true
   },
   "outputs": [],
   "source": [
    "from sklearn.model_selection import train_test_split\n",
    "X_train, X_test, y_train, y_test =train_test_split(iris_dataset['data'], iris_dataset['target'],\n",
    "                                                   test_size=0.5,random_state=78)\n",
    "#random_stateの作用が（np.random.seed(seed=？)）と同じ\n",
    "#test_sizeは（X_test、y_test）の割合"
   ]
  },
  {
   "cell_type": "code",
   "execution_count": 4,
   "metadata": {},
   "outputs": [
    {
     "name": "stdout",
     "output_type": "stream",
     "text": [
      "X_train shape: (75, 4)\n",
      "y_train shape: (75,)\n",
      "X_test shape: (75, 4)\n",
      "y_test shape: (75,)\n",
      "Target names: ['setosa' 'versicolor' 'virginica']\n"
     ]
    }
   ],
   "source": [
    "print(\"X_train shape: {}\".format(X_train.shape))\n",
    "print(\"y_train shape: {}\".format(y_train.shape))\n",
    "print(\"X_test shape: {}\".format(X_test.shape))\n",
    "print(\"y_test shape: {}\".format(y_test.shape))\n",
    "print(\"Target names: {}\".format(iris_dataset['target_names']))"
   ]
  },
  {
   "cell_type": "code",
   "execution_count": 5,
   "metadata": {
    "collapsed": true
   },
   "outputs": [],
   "source": [
    "def one_classification(x,k):\n",
    "    distance=np.zeros(X_train.shape[0])\n",
    "    for i1 in range(0,X_train.shape[0]):\n",
    "        sum=0\n",
    "        for i2 in range(0,X_train.shape[1]):\n",
    "            z=(X_train[i1,i2]-x[0,i2])**2\n",
    "            sum=sum+z\n",
    "        distance[i1]=np.sqrt(sum)\n",
    "    K_list=np.argsort(distance) #Returns the indices that would sort an array.\n",
    "    y=np.zeros(k)\n",
    "    for i in range(0,k):\n",
    "        y[i]=y_train[K_list[i]]\n",
    "    #そのKつのクラスの多数決で、属するクラスを推定\n",
    "    count0=np.sum(y==0)\n",
    "    count1=np.sum(y==1)\n",
    "    count2=np.sum(y==2)\n",
    "    if count0>count1 and count0>count2:\n",
    "        return 0\n",
    "    elif count1>count0 and count1>count2:\n",
    "        return 1\n",
    "    elif count2>count0 and count2>count1:\n",
    "        return 2\n",
    "    else:\n",
    "        return one_classification(x,1) #もし、並置の場合で、K＝１\n",
    "        #return y_train[K_list[0]]"
   ]
  },
  {
   "cell_type": "code",
   "execution_count": 6,
   "metadata": {
    "collapsed": true
   },
   "outputs": [],
   "source": [
    "y_pred=np.zeros((X_test.shape[0]))\n",
    "def classification(x,k):\n",
    "    for i in range(X_test.shape[0]):\n",
    "        y_pred[i]=one_classification(x[i:i+1],k)\n",
    "    return y_pred"
   ]
  },
  {
   "cell_type": "code",
   "execution_count": 7,
   "metadata": {},
   "outputs": [
    {
     "name": "stdout",
     "output_type": "stream",
     "text": [
      "Prediction: 0\n",
      "Predicted target name: setosa\n"
     ]
    }
   ],
   "source": [
    "X_new = np.array([[5, 2.9, 1, 0.2]])\n",
    "one_classification(X_new,3)\n",
    "print(\"Prediction: {}\".format(one_classification(X_new,3)))\n",
    "print(\"Predicted target name: {}\".format(iris_dataset['target_names'][one_classification(X_new,3)]))"
   ]
  },
  {
   "cell_type": "code",
   "execution_count": 8,
   "metadata": {},
   "outputs": [
    {
     "data": {
      "text/plain": [
       "array([ 2.,  2.,  2.,  1.,  1.,  1.,  1.,  0.,  1.,  2.,  2.,  2.,  2.,\n",
       "        0.,  1.,  1.,  1.,  1.,  0.,  0.,  0.,  2.,  2.,  0.,  1.,  1.,\n",
       "        1.,  0.,  1.,  2.,  2.,  2.,  2.,  1.,  0.,  0.,  2.,  0.,  1.,\n",
       "        0.,  1.,  2.,  2.,  1.,  2.,  0.,  0.,  0.,  2.,  0.,  2.,  0.,\n",
       "        1.,  0.,  1.,  1.,  1.,  0.,  0.,  0.,  1.,  2.,  1.,  0.,  1.,\n",
       "        0.,  2.,  2.,  1.,  1.,  2.,  2.,  0.,  0.,  1.])"
      ]
     },
     "execution_count": 8,
     "metadata": {},
     "output_type": "execute_result"
    }
   ],
   "source": [
    "classification(X_test,3)"
   ]
  },
  {
   "cell_type": "code",
   "execution_count": 9,
   "metadata": {},
   "outputs": [
    {
     "name": "stdout",
     "output_type": "stream",
     "text": [
      "Test set score: 96.0%\n",
      " \n",
      "mistake:\n",
      "X_test[ 5.9  3.2  4.8  1.8]     y_test:1   y_pred:2\n",
      "mistake:\n",
      "X_test[ 6.   2.7  5.1  1.6]     y_test:1   y_pred:2\n",
      "mistake:\n",
      "X_test[ 6.   2.2  5.   1.5]     y_test:2   y_pred:1\n"
     ]
    }
   ],
   "source": [
    "def Test_set_score():\n",
    "    print(\"Test set score: {:.1f}%\".format(np.mean((y_pred == y_test)*100)))\n",
    "    print(\" \")\n",
    "    for i in range(0,X_test.shape[0]):\n",
    "        if y_pred[i] != y_test[i]:\n",
    "            print(\"mistake:\")\n",
    "            print(\"X_test{0}     y_test:{1}   y_pred:{2:.0f}\".format(X_test[i],y_test[i],y_pred[i]))\n",
    "Test_set_score()"
   ]
  },
  {
   "cell_type": "code",
   "execution_count": null,
   "metadata": {
    "collapsed": true
   },
   "outputs": [],
   "source": []
  }
 ],
 "metadata": {
  "kernelspec": {
   "display_name": "Python 3",
   "language": "python",
   "name": "python3"
  },
  "language_info": {
   "codemirror_mode": {
    "name": "ipython",
    "version": 3
   },
   "file_extension": ".py",
   "mimetype": "text/x-python",
   "name": "python",
   "nbconvert_exporter": "python",
   "pygments_lexer": "ipython3",
   "version": "3.6.3"
  }
 },
 "nbformat": 4,
 "nbformat_minor": 2
}
