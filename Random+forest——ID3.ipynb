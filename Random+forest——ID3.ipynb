{
 "cells": [
  {
   "cell_type": "code",
   "execution_count": 14,
   "metadata": {
    "collapsed": true
   },
   "outputs": [],
   "source": [
    "import 决策树可视化 as treeplotter_small_size\n",
    "import numpy as np\n",
    "from collections import Counter\n",
    "import math\n",
    "from sklearn.datasets import load_iris\n",
    "iris_dataset = load_iris()\n",
    "from sklearn.model_selection import train_test_split\n",
    "X_train, X_test, y_train, y_test =train_test_split(iris_dataset['data'], iris_dataset['target'],\n",
    "                                                   test_size=0.5,random_state=1)"
   ]
  },
  {
   "cell_type": "code",
   "execution_count": 15,
   "metadata": {
    "collapsed": true
   },
   "outputs": [],
   "source": [
    "def change_target_names(dataset):\n",
    "    y=[]\n",
    "    for i in dataset:\n",
    "        if i ==0:\n",
    "            y.append('setosa')\n",
    "        elif i ==1:\n",
    "             y.append('versicolor')\n",
    "        elif i ==2:\n",
    "             y.append('virginica')\n",
    "    return y\n",
    "def Change(dataset):\n",
    "    X=np.ones((dataset.shape[0],dataset.shape[1]))\n",
    "    for i1 in range(dataset.shape[1]):\n",
    "        train=X_train[:,i1]\n",
    "        min=np.min(train)\n",
    "        size=(np.max(train)-np.min(train))/10\n",
    "        for i2 in range(dataset.shape[0]):\n",
    "            if i1==0 or i1==3 or i1==1:\n",
    "                if dataset[i2,i1] <=min+3.3*size:\n",
    "                    X[i2,i1]=0\n",
    "                elif min+3.3*size< dataset[i2,i1] <=min+6.6*size:\n",
    "                    X[i2,i1]=1\n",
    "                else:\n",
    "                    X[i2,i1]=2\n",
    "                #a=(max-min)/3\n",
    "                #0=min+1/3*a\n",
    "                    \n",
    "            elif i1==2:\n",
    "                if dataset[i2,i1] <=min+2.5*size:\n",
    "                    X[i2,i1]=0\n",
    "                elif min+2.5*size < dataset[i2,i1] <=min+5*size:\n",
    "                    X[i2,i1]=1\n",
    "                elif min+5*size < dataset[i2,i1] <=min+7.5*size:\n",
    "                    X[i2,i1]=2\n",
    "                elif min+7.5*size < dataset[i2,i1] <=min+11*size:\n",
    "                    X[i2,i1]=3\n",
    "                    \n",
    "            elif i1==1:\n",
    "                if dataset[i2,i1] <=min+5*size:\n",
    "                    X[i2,i1]=0\n",
    "                else:\n",
    "                    X[i2,i1]=1            \n",
    "    return X.astype(np.int64)\n",
    "\n",
    "def New_change():\n",
    "    H=[]\n",
    "    for i in Change(X_train):\n",
    "        H.append(list(i))\n",
    "    y=list(change_target_names(y_train))\n",
    "    new_data=[]\n",
    "    w=0\n",
    "    for data in H:\n",
    "        data.append(y[w])\n",
    "        new_data.append(data)\n",
    "        w+=1\n",
    "    return new_data\n",
    "New_data=New_change()"
   ]
  },
  {
   "cell_type": "code",
   "execution_count": 16,
   "metadata": {
    "collapsed": true
   },
   "outputs": [],
   "source": [
    "import math\n",
    "import operator\n",
    " \n",
    "def calcShannonEnt(dataset):\n",
    "    numEntries = len(dataset)#列数\n",
    "    labelCounts = {}\n",
    "    for featVec in dataset:\n",
    "        currentLabel = featVec[-1]\n",
    "        if currentLabel not in labelCounts.keys():\n",
    "            labelCounts[currentLabel] = 0\n",
    "        labelCounts[currentLabel] +=1\n",
    "         \n",
    "    shannonEnt = 0.0\n",
    "    for key in labelCounts:\n",
    "        prob = float(labelCounts[key])/numEntries\n",
    "        shannonEnt -= prob*math.log(prob, 2)\n",
    "    return shannonEnt\n",
    "     \n",
    "def CreateDataSet(dataset):\n",
    "    #labels = ['0','1','2','3']\n",
    "    labels = ['sepal length','sepal width','petal length','petal width']\n",
    "    return dataset, labels\n",
    "\n",
    "def splitDataSet(dataSet, axis, value):\n",
    "    retDataSet = []\n",
    "    for featVec in dataSet:\n",
    "        if featVec[axis] == value:\n",
    "            reducedFeatVec = featVec[:axis]\n",
    "            reducedFeatVec.extend(featVec[axis+1:])\n",
    "            retDataSet.append(reducedFeatVec)\n",
    "     \n",
    "    return retDataSet\n",
    "\n",
    "def chooseBestFeatureToSplit(dataSet):\n",
    "    numFeatures = len(dataSet[0]) - 1      #获取当前数据集的特征个数，最后一列是分类标签\n",
    "    baseEntropy = calcShannonEnt(dataSet)  #计算当前数据集的信息熵\n",
    "    bestInfoGain = 0.0; bestFeature = -1   #初始化最优信息增益和最优的特征\n",
    "    for i in range(numFeatures):        #遍历每个特征iterate over all the features\n",
    "        featList = [example[i] for example in dataSet]#获取数据集中当前特征下的所有值\n",
    "        uniqueVals = set(featList)       # 获取当前特征值，例如outlook下有sunny、overcast、rainy\n",
    "        newEntropy = 0.0\n",
    "        for value in uniqueVals: #计算每种划分方式的信息熵\n",
    "            subDataSet = splitDataSet(dataSet, i, value)\n",
    "            prob = len(subDataSet)/float(len(dataSet))\n",
    "            newEntropy += prob * calcShannonEnt(subDataSet)\n",
    "        infoGain = baseEntropy - newEntropy     #计算信息增益\n",
    "        if (infoGain > bestInfoGain):       #比较每个特征的信息增益，只要最好的信息增益\n",
    "            bestInfoGain = infoGain         #if better than current best, set to best\n",
    "            bestFeature = i\n",
    "    return bestFeature                      #returns an integer\n",
    "\n",
    "\n",
    " \n",
    "def majorityCnt(classList):\n",
    "    classCount ={}\n",
    "    for vote in classList:\n",
    "        if vote not in classCount.keys():\n",
    "            classCount[vote]=0\n",
    "        classCount[vote]=1\n",
    "    sortedClassCount = sorted(classCount.items(), key=operator.itemgetter(1), reverse=True)\n",
    "    return sortedClassCount[0][0]\n",
    "  \n",
    "def createTree(dataSet, labels):\n",
    "    classList = [example[-1] for example in dataSet]\n",
    "    if classList.count(classList[0])==len(classList):\n",
    "        return classList[0]\n",
    "    if len(dataSet[0])==1:\n",
    "        return majorityCnt(classList)\n",
    "    bestFeat = chooseBestFeatureToSplit(dataSet)\n",
    "    bestFeatLabel = labels[bestFeat]\n",
    "    myTree = {bestFeatLabel:{}}\n",
    "    del(labels[bestFeat])\n",
    "    featValues = [example[bestFeat] for example in dataSet]\n",
    "    uniqueVals = set(featValues)\n",
    "    for value in uniqueVals:\n",
    "        subLabels = labels[:]\n",
    "        myTree[bestFeatLabel][value] = createTree(splitDataSet(dataSet, bestFeat, value), subLabels)\n",
    "    return myTree"
   ]
  },
  {
   "cell_type": "code",
   "execution_count": 17,
   "metadata": {},
   "outputs": [
    {
     "data": {
      "text/plain": [
       "1"
      ]
     },
     "execution_count": 17,
     "metadata": {},
     "output_type": "execute_result"
    }
   ],
   "source": [
    "int(np.random.uniform(low=0, high=3, size=None))"
   ]
  },
  {
   "cell_type": "code",
   "execution_count": 18,
   "metadata": {
    "collapsed": true
   },
   "outputs": [],
   "source": [
    "#TrainData(训练数据)；forest_size（生成多少棵树）；ratio（每棵树抽取的比例）\n",
    "def Random_forest(TrainData,forest_size,ratio):\n",
    "    tree_set=[]\n",
    "    z=[]#存放生成每棵树的数据引索号\n",
    "    for i in range(forest_size):#生成多少棵树\n",
    "        #从len(TrainData)[0]个数据中，抽取ratio*TrainData_X[0]个数据\n",
    "        #生成每棵树的数据引索号\n",
    "        a1= np.random.choice(a=len(TrainData), size=int(ratio*len(TrainData)), replace=False, p=None)\n",
    "        z.append(a1)\n",
    "        New_dataset=[]#生成每棵树的数据\n",
    "        for a in a1:\n",
    "            New_dataset.append(TrainData[a])\n",
    "        myDat,labels = CreateDataSet(New_dataset)\n",
    "        iris=createTree(myDat,labels)\n",
    "        #tree_set存放所有决策树\n",
    "        tree_set.append(iris)\n",
    "    return tree_set"
   ]
  },
  {
   "cell_type": "code",
   "execution_count": 45,
   "metadata": {
    "collapsed": true
   },
   "outputs": [],
   "source": [
    "#TrainData(训练数据)；forest_size（生成多少棵树）；ratio（每棵树抽取的比例）\n",
    "def Random_forest(TrainData,forest_size,ratio):\n",
    "    treedata_set=[]\n",
    "    z=[]#存放生成每棵树的数据引索号\n",
    "    for i in range(forest_size):#生成多少棵树\n",
    "        #从len(TrainData)[0]个数据中，抽取ratio*TrainData_X[0]个数据\n",
    "        #生成每棵树的数据引索号\n",
    "        a1= np.random.choice(a=len(TrainData), size=int(ratio*len(TrainData)), replace=False, p=None)\n",
    "        z.append(a1)\n",
    "        New_dataset=[]#生成每棵树的数据\n",
    "        for a in a1:\n",
    "            New_dataset.append(TrainData[a])\n",
    "        treedata_set.append(New_dataset)\n",
    "    tree_set=[]\n",
    "    for tree in treedata_set:\n",
    "        C45_iris=createTree(tree,['sepal length','sepal width','petal length','petal width'])\n",
    "        tree_set.append(C45_iris)\n",
    "    return tree_set"
   ]
  },
  {
   "cell_type": "code",
   "execution_count": 46,
   "metadata": {},
   "outputs": [
    {
     "data": {
      "text/plain": [
       "[{'petal length': {0: 'setosa',\n",
       "   1: 'versicolor',\n",
       "   2: {'sepal length': {0: 'virginica',\n",
       "     1: {'petal width': {1: 'versicolor', 2: 'virginica'}},\n",
       "     2: 'versicolor'}},\n",
       "   3: 'virginica'}},\n",
       " {'sepal width': {0: {'petal width': {1: 'versicolor', 2: 'virginica'}},\n",
       "   1: {'sepal length': {0: 'setosa',\n",
       "     1: {'petal width': {1: {'petal length': {'versicolor': 'versicolor',\n",
       "         'virginica': 'virginica'}},\n",
       "       2: 'virginica'}},\n",
       "     2: {'petal length': {2: 'versicolor', 3: 'virginica'}}}},\n",
       "   2: 'setosa'}},\n",
       " {'petal length': {0: 'setosa',\n",
       "   1: 'versicolor',\n",
       "   2: {'sepal length': {0: 'virginica',\n",
       "     1: {'petal width': {1: 'versicolor',\n",
       "       2: {'sepal width': {0: 'virginica', 1: 'virginica'}}}},\n",
       "     2: 'versicolor'}},\n",
       "   3: 'virginica'}},\n",
       " {'petal length': {0: 'setosa',\n",
       "   1: 'versicolor',\n",
       "   2: {'petal width': {1: {'sepal width': {0: 'versicolor',\n",
       "       1: {'sepal length': {1: 'virginica', 2: 'versicolor'}}}},\n",
       "     2: 'virginica'}},\n",
       "   3: 'virginica'}},\n",
       " {'petal length': {0: 'setosa',\n",
       "   1: 'versicolor',\n",
       "   2: {'sepal length': {0: 'virginica',\n",
       "     1: {'petal width': {1: 'versicolor', 2: 'virginica'}},\n",
       "     2: 'versicolor'}},\n",
       "   3: 'virginica'}},\n",
       " {'petal length': {0: 'setosa',\n",
       "   1: 'versicolor',\n",
       "   2: {'sepal length': {0: 'virginica',\n",
       "     1: {'petal width': {1: 'versicolor',\n",
       "       2: {'sepal width': {0: 'virginica', 1: 'versicolor'}}}}}},\n",
       "   3: 'virginica'}},\n",
       " {'petal length': {0: 'setosa',\n",
       "   1: 'versicolor',\n",
       "   2: {'petal width': {1: {'sepal width': {0: 'versicolor',\n",
       "       1: {'sepal length': {1: 'versicolor', 2: 'versicolor'}}}},\n",
       "     2: 'virginica'}},\n",
       "   3: 'virginica'}},\n",
       " {'petal length': {0: 'setosa',\n",
       "   1: 'versicolor',\n",
       "   2: {'sepal width': {0: 'versicolor',\n",
       "     1: {'petal width': {1: {'sepal length': {1: 'versicolor',\n",
       "         2: 'versicolor'}},\n",
       "       2: {'sepal length': {'versicolor': 'versicolor',\n",
       "         'virginica': 'virginica'}}}}}},\n",
       "   3: 'virginica'}},\n",
       " {'sepal width': {0: {'petal length': {0: 'setosa',\n",
       "     1: 'versicolor',\n",
       "     2: 'versicolor',\n",
       "     3: 'virginica'}},\n",
       "   1: {'sepal length': {0: 'setosa',\n",
       "     1: {'petal width': {1: {'petal length': {'versicolor': 'versicolor',\n",
       "         'virginica': 'virginica'}},\n",
       "       2: {'petal length': {2: 'virginica', 3: 'virginica'}}}},\n",
       "     2: {'petal length': {2: 'versicolor', 3: 'virginica'}}}},\n",
       "   2: {'petal length': {0: 'setosa', 3: 'virginica'}}}},\n",
       " {'petal length': {0: 'setosa',\n",
       "   1: 'versicolor',\n",
       "   2: {'sepal length': {0: 'virginica',\n",
       "     1: {'petal width': {1: {'sepal width': {0: 'versicolor', 1: 'virginica'}},\n",
       "       2: 'virginica'}},\n",
       "     2: 'versicolor'}},\n",
       "   3: 'virginica'}},\n",
       " {'sepal width': {0: {'petal width': {1: 'versicolor', 2: 'virginica'}},\n",
       "   1: {'petal length': {0: 'setosa',\n",
       "     1: 'versicolor',\n",
       "     2: {'sepal length': {1: {'petal width': {'versicolor': 'versicolor',\n",
       "         'virginica': 'virginica'}},\n",
       "       2: 'versicolor'}},\n",
       "     3: 'virginica'}},\n",
       "   2: {'petal length': {0: 'setosa', 3: 'virginica'}}}},\n",
       " {'petal length': {0: 'setosa',\n",
       "   1: 'versicolor',\n",
       "   2: {'sepal length': {0: 'virginica',\n",
       "     1: {'sepal width': {0: 'versicolor',\n",
       "       1: {'petal width': {1: 'versicolor', 2: 'virginica'}}}},\n",
       "     2: 'versicolor'}},\n",
       "   3: 'virginica'}},\n",
       " {'petal length': {0: 'setosa',\n",
       "   1: 'versicolor',\n",
       "   2: {'sepal width': {0: {'petal width': {1: 'versicolor', 2: 'virginica'}},\n",
       "     1: {'sepal length': {1: {'petal width': {1: 'versicolor',\n",
       "         2: 'versicolor'}},\n",
       "       2: 'versicolor'}}}},\n",
       "   3: 'virginica'}},\n",
       " {'petal length': {0: 'setosa',\n",
       "   1: 'versicolor',\n",
       "   2: {'petal width': {1: {'sepal width': {0: 'versicolor',\n",
       "       1: {'sepal length': {1: 'versicolor', 2: 'versicolor'}}}},\n",
       "     2: {'sepal width': {0: 'virginica', 1: 'versicolor'}}}},\n",
       "   3: 'virginica'}},\n",
       " {'petal length': {0: 'setosa',\n",
       "   1: 'versicolor',\n",
       "   2: {'petal width': {1: 'versicolor', 2: 'virginica'}},\n",
       "   3: 'virginica'}},\n",
       " {'petal length': {0: 'setosa',\n",
       "   1: 'versicolor',\n",
       "   2: {'petal width': {1: 'versicolor', 2: 'virginica'}},\n",
       "   3: 'virginica'}},\n",
       " {'sepal width': {0: {'sepal length': {0: 'versicolor',\n",
       "     1: {'petal length': {1: 'versicolor',\n",
       "       2: {'petal width': {1: 'versicolor', 2: 'virginica'}},\n",
       "       3: 'virginica'}}}},\n",
       "   1: {'petal length': {0: 'setosa',\n",
       "     1: 'versicolor',\n",
       "     2: {'petal width': {1: 'versicolor',\n",
       "       2: {'sepal length': {'versicolor': 'versicolor',\n",
       "         'virginica': 'virginica'}}}},\n",
       "     3: 'virginica'}},\n",
       "   2: {'sepal length': {1: 'setosa', 2: 'virginica'}}}},\n",
       " {'petal length': {0: 'setosa',\n",
       "   1: 'versicolor',\n",
       "   2: {'petal width': {1: 'versicolor', 2: 'virginica'}},\n",
       "   3: 'virginica'}},\n",
       " {'petal length': {0: 'setosa',\n",
       "   1: 'versicolor',\n",
       "   2: {'sepal length': {0: 'virginica',\n",
       "     1: {'petal width': {1: 'versicolor',\n",
       "       2: {'sepal width': {'versicolor': 'versicolor',\n",
       "         'virginica': 'virginica'}}}},\n",
       "     2: 'versicolor'}},\n",
       "   3: 'virginica'}},\n",
       " {'sepal width': {0: {'petal width': {1: 'versicolor', 2: 'virginica'}},\n",
       "   1: {'petal length': {0: 'setosa',\n",
       "     2: {'petal width': {1: 'versicolor', 2: 'virginica'}},\n",
       "     3: 'virginica'}},\n",
       "   2: {'petal length': {0: 'setosa', 3: 'virginica'}}}},\n",
       " {'petal length': {0: 'setosa',\n",
       "   1: 'versicolor',\n",
       "   2: {'petal width': {1: 'versicolor', 2: 'virginica'}},\n",
       "   3: 'virginica'}},\n",
       " {'petal length': {0: 'setosa',\n",
       "   1: 'versicolor',\n",
       "   2: 'versicolor',\n",
       "   3: 'virginica'}},\n",
       " {'petal length': {0: 'setosa',\n",
       "   1: 'versicolor',\n",
       "   2: {'petal width': {1: 'versicolor', 2: 'virginica'}},\n",
       "   3: 'virginica'}},\n",
       " {'sepal width': {0: 'versicolor',\n",
       "   1: {'sepal length': {0: 'setosa',\n",
       "     1: {'petal length': {0: 'setosa',\n",
       "       2: {'petal width': {1: 'versicolor', 2: 'virginica'}},\n",
       "       3: 'virginica'}},\n",
       "     2: {'petal length': {2: 'versicolor', 3: 'virginica'}}}},\n",
       "   2: 'setosa'}},\n",
       " {'petal length': {0: 'setosa',\n",
       "   1: 'versicolor',\n",
       "   2: {'sepal length': {0: 'virginica',\n",
       "     1: {'petal width': {1: {'sepal width': {0: 'versicolor',\n",
       "         1: 'versicolor'}},\n",
       "       2: {'sepal width': {0: 'virginica', 1: 'virginica'}}}},\n",
       "     2: 'versicolor'}},\n",
       "   3: 'virginica'}},\n",
       " {'petal length': {0: 'setosa',\n",
       "   1: 'versicolor',\n",
       "   2: {'sepal length': {0: 'virginica',\n",
       "     1: {'sepal width': {0: 'versicolor',\n",
       "       1: {'petal width': {1: 'versicolor', 2: 'versicolor'}}}},\n",
       "     2: 'versicolor'}},\n",
       "   3: 'virginica'}},\n",
       " {'petal length': {0: 'setosa',\n",
       "   1: 'versicolor',\n",
       "   2: {'sepal length': {0: 'virginica',\n",
       "     1: {'petal width': {1: 'versicolor', 2: 'virginica'}},\n",
       "     2: 'versicolor'}},\n",
       "   3: 'virginica'}},\n",
       " {'petal length': {0: 'setosa',\n",
       "   1: 'versicolor',\n",
       "   2: {'sepal length': {0: 'virginica',\n",
       "     1: {'petal width': {1: 'versicolor',\n",
       "       2: {'sepal width': {0: 'virginica', 1: 'versicolor'}}}}}},\n",
       "   3: 'virginica'}},\n",
       " {'petal length': {0: 'setosa',\n",
       "   1: 'versicolor',\n",
       "   2: {'sepal length': {0: 'virginica',\n",
       "     1: {'sepal width': {0: 'versicolor',\n",
       "       1: {'petal width': {1: 'virginica', 2: 'virginica'}}}},\n",
       "     2: 'versicolor'}},\n",
       "   3: 'virginica'}},\n",
       " {'sepal width': {0: {'petal width': {1: 'versicolor', 2: 'virginica'}},\n",
       "   1: {'petal length': {0: 'setosa',\n",
       "     1: 'versicolor',\n",
       "     2: {'petal width': {1: 'versicolor',\n",
       "       2: {'sepal length': {'versicolor': 'versicolor',\n",
       "         'virginica': 'virginica'}}}},\n",
       "     3: 'virginica'}},\n",
       "   2: 'setosa'}}]"
      ]
     },
     "execution_count": 46,
     "metadata": {},
     "output_type": "execute_result"
    }
   ],
   "source": [
    "Random_forest(New_data,30,0.5)"
   ]
  },
  {
   "cell_type": "code",
   "execution_count": 47,
   "metadata": {
    "collapsed": true
   },
   "outputs": [],
   "source": [
    "#输入三个变量（决策树，属性特征标签，测试的数据）\n",
    "labels = ['sepal length','sepal width','petal length','petal width']\n",
    "def classify(inputTree,featLables,testVec):\n",
    "    firstStr=list(inputTree.keys())[0] #获取树的第一个特征属性\n",
    "    secondDict=inputTree[firstStr] #树的分支，子集合Dict\n",
    "    featIndex=featLables.index(firstStr) #获取决策树第一层在featLables中的位置\n",
    "    for key in secondDict.keys():\n",
    "        if testVec[featIndex]==key:\n",
    "            global classLabel   #声明\n",
    "            if type(secondDict[key]).__name__=='dict':\n",
    "                classLabel=classify(secondDict[key],featLables,testVec)\n",
    "            else:classLabel=secondDict[key]\n",
    "    return classLabel"
   ]
  },
  {
   "cell_type": "code",
   "execution_count": 58,
   "metadata": {
    "collapsed": true
   },
   "outputs": [],
   "source": [
    "data=Random_forest(New_data,30,0.4)"
   ]
  },
  {
   "cell_type": "code",
   "execution_count": 59,
   "metadata": {
    "collapsed": true
   },
   "outputs": [],
   "source": [
    "def Random_forest_classify(TrainData,forest_size,ratio,data):\n",
    "    Classification_result_set=[]\n",
    "    for i in Random_forest(TrainData,forest_size,ratio):\n",
    "        Classification_result_set.append(classify(i,['sepal length','sepal width','petal length','petal width'],data))\n",
    "    return Counter(Classification_result_set).most_common(1)[0][0]"
   ]
  },
  {
   "cell_type": "code",
   "execution_count": 60,
   "metadata": {},
   "outputs": [
    {
     "data": {
      "text/plain": [
       "'versicolor'"
      ]
     },
     "execution_count": 60,
     "metadata": {},
     "output_type": "execute_result"
    }
   ],
   "source": [
    "Random_forest_classify(New_change(),30,0.5,[1,1,1,1])"
   ]
  },
  {
   "cell_type": "code",
   "execution_count": null,
   "metadata": {
    "collapsed": true
   },
   "outputs": [],
   "source": [
    "def ID3(X):\n",
    "    test_data=Change(X)   #使用临时变量得到输入数组的大小\n",
    "    y_pred=np.ones((test_data.shape[0]))\n",
    "    w=0\n",
    "    for data in test_data:\n",
    "        pred=Random_forest_classify(New_change(),30,0.5,data)\n",
    "        if pred == \"setosa\":\n",
    "            y_pred[w]=0\n",
    "        elif pred == \"versicolor\":\n",
    "            y_pred[w]=1\n",
    "        elif pred == \"virginica\":\n",
    "            y_pred[w]=2\n",
    "        w+=1\n",
    "    return y_pred"
   ]
  },
  {
   "cell_type": "code",
   "execution_count": 62,
   "metadata": {},
   "outputs": [
    {
     "data": {
      "text/plain": [
       "1.0"
      ]
     },
     "execution_count": 62,
     "metadata": {},
     "output_type": "execute_result"
    }
   ],
   "source": [
    "def Test_set_score(Test_data,Result,Papers):\n",
    "    #print(\"Test set score: {:.2f}\".format(np.mean(Result == Papers)))\n",
    "    length=len(Result)\n",
    "    #for i in range(length):\n",
    "        #if Result[i] != Papers[i]:\n",
    "            #print(\"X_test{0}     y_pred:{1}    y_test:{2}\".format(Test_data[i],Result[i],Papers[i]))\n",
    "    return np.mean(Result == Papers)\n",
    "Test_set_score(Change(X_test),ID3(X_test),y_test)"
   ]
  },
  {
   "cell_type": "code",
   "execution_count": 63,
   "metadata": {},
   "outputs": [
    {
     "name": "stdout",
     "output_type": "stream",
     "text": [
      "0.944444444444\n"
     ]
    }
   ],
   "source": [
    "正确率1=[]\n",
    "X_train, X_test, y_train, y_test =train_test_split(iris_dataset['data'], iris_dataset['target'],\n",
    "                                                   test_size=0.6,random_state=i)\n",
    "a=Test_set_score(X_test,ID3(X_test),y_test)\n",
    "正确率1.append(a)\n",
    "print(np.mean(正确率1))"
   ]
  },
  {
   "cell_type": "code",
   "execution_count": 71,
   "metadata": {},
   "outputs": [
    {
     "name": "stdout",
     "output_type": "stream",
     "text": [
      "0.940877463806\n",
      "0.942350669372\n",
      "0.943510472179\n",
      "0.94394609487\n",
      "0.94427483653\n",
      "0.94405744789\n",
      "0.942895611702\n"
     ]
    }
   ],
   "source": [
    "for qwe in [0.1,0.2,0.3,0.4,0.5,0.6,0.7]:\n",
    "    for i in range(1,100):\n",
    "        X_train, X_test, y_train, y_test =train_test_split(iris_dataset['data'], iris_dataset['target'],\n",
    "                                                       test_size=qwe,random_state=i)\n",
    "        a=Test_set_score(X_test,ID3(X_test),y_test)\n",
    "        正确率1.append(a)\n",
    "    print(np.mean(正确率1))"
   ]
  },
  {
   "cell_type": "code",
   "execution_count": null,
   "metadata": {
    "collapsed": true
   },
   "outputs": [],
   "source": []
  }
 ],
 "metadata": {
  "kernelspec": {
   "display_name": "Python 3",
   "language": "python",
   "name": "python3"
  },
  "language_info": {
   "codemirror_mode": {
    "name": "ipython",
    "version": 3
   },
   "file_extension": ".py",
   "mimetype": "text/x-python",
   "name": "python",
   "nbconvert_exporter": "python",
   "pygments_lexer": "ipython3",
   "version": "3.6.3"
  }
 },
 "nbformat": 4,
 "nbformat_minor": 2
}
